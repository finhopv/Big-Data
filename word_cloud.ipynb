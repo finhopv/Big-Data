{
 "cells": [
  {
   "cell_type": "code",
   "execution_count": null,
   "metadata": {},
   "outputs": [],
   "source": [
    "import nltk\n",
    "nltk.download('stopwords')\n",
    "from nltk.corpus import stopwords"
   ]
  },
  {
   "cell_type": "code",
   "execution_count": null,
   "metadata": {},
   "outputs": [],
   "source": [
    "from wordcloud import WordCloud \n",
    "import matplotlib.pyplot as plt \n",
    "from IPython import display\n",
    "import time\n"
   ]
  },
  {
   "cell_type": "code",
   "execution_count": null,
   "metadata": {},
   "outputs": [],
   "source": [
    "from pyspark.sql import SparkSession\n",
    "from pyspark.sql import function as f\n",
    "\n",
    "spark=SparkSession.builder\\\n",
    "      .master('local[*]')\\\n",
    "      .appName('WprdCloud')\\\n",
    "      .getOrCreate()"
   ]
  },
  {
   "cell_type": "code",
   "execution_count": null,
   "metadata": {},
   "outputs": [],
   "source": [
    "def trata_tweets(df):\n",
    "    words=df\\\n",
    "        .select(f.explode(f.split(f.lower('_c0'), \" \")).alias('word'))\\\n",
    "        .WithColumn('word', f.regex_replace('word', r'http\\S+', ''))\\\n",
    "        .WithColumn('word', f.regex_replace('word', r'@\\w+', ''))\\\n",
    "        .WithColumn('word', f.regex_replace('word', 'rt', ''))\\\n",
    "        .na.replace('', None)\\\n",
    "        .na.drop()\n",
    "    return words    "
   ]
  },
  {
   "cell_type": "code",
   "execution_count": null,
   "metadata": {},
   "outputs": [],
   "source": [
    "stops = stopwords.words('portuguese')\n",
    "stops.append('presidente')\n",
    "plt.figure(figsize=(20,10))\n",
    "\n",
    "while True:\n",
    "    try:\n",
    "        words=spark.read.csv('./csv', encoding='utf-8')\n",
    "        words=trata_tweets(words)\n",
    "        rows = words.collect()\n",
    "        all_words = ''\n",
    "        for row in rows:\n",
    "            all_words = all_words + ' ' +row['word']\n",
    "        wordcloud=WordCloud(stopwords= stops,\n",
    "                           background_color='black',\n",
    "                           width=1920,\n",
    "                           height=1080,\n",
    "                           max_words=100).generate(all_words)\n",
    "\n",
    "        plt.cla()\n",
    "        plt.axis('off')\n",
    "        plt.imshow(wordcloud)\n",
    "        display.display(plt.gcf())\n",
    "        display.clear_output(wait=True)\n",
    "        time.sleep(45)\n",
    "    except KeyboardInterrupt:\n",
    "        break                           "
   ]
  }
 ],
 "metadata": {
  "language_info": {
   "name": "python"
  },
  "orig_nbformat": 4
 },
 "nbformat": 4,
 "nbformat_minor": 2
}
